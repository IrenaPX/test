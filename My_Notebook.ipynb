{
 "cells": [
  {
   "cell_type": "code",
   "execution_count": 1,
   "id": "3dc22aaa-8af4-4f0e-8dc3-46841984a164",
   "metadata": {},
   "outputs": [
    {
     "data": {
      "text/plain": [
       "2"
      ]
     },
     "execution_count": 1,
     "metadata": {},
     "output_type": "execute_result"
    }
   ],
   "source": [
    "1+1"
   ]
  },
  {
   "cell_type": "markdown",
   "id": "95c63df3-c03b-410f-ab28-824cb7127e1a",
   "metadata": {},
   "source": [
    "## Find the cube of 2. \n",
    "- first write 2 \n",
    "- then assign power function using ** \n",
    "- finally write 3"
   ]
  },
  {
   "cell_type": "code",
   "execution_count": 2,
   "id": "b122cfe7-892f-421b-8568-1ba64e3c199b",
   "metadata": {},
   "outputs": [
    {
     "data": {
      "text/plain": [
       "8"
      ]
     },
     "execution_count": 2,
     "metadata": {},
     "output_type": "execute_result"
    }
   ],
   "source": [
    "2**3"
   ]
  },
  {
   "cell_type": "markdown",
   "id": "f0aec6b1-ad57-4f89-bf73-75e375f54945",
   "metadata": {},
   "source": [
    "# Header 1"
   ]
  },
  {
   "cell_type": "markdown",
   "id": "b533f0db-249e-42d7-b6ba-0930977b1dec",
   "metadata": {},
   "source": [
    "## Header 2"
   ]
  },
  {
   "cell_type": "markdown",
   "id": "4d3a6e30-c879-405c-9968-29553915c823",
   "metadata": {},
   "source": [
    "### Header 3"
   ]
  },
  {
   "cell_type": "markdown",
   "id": "a7234b25-c6da-40cb-9189-cd152331cfb9",
   "metadata": {},
   "source": [
    "<a href=\"http://www.youtube.com/watch?feature=player_embedded&v=YOUTUBE_VIDEO_ID_HERE\n",
    "\" target=\"_blank\"><img src=\"http://img.youtube.com/vi/YOUTUBE_VIDEO_ID_HERE/0.jpg\" \n",
    "alt=\"IMAGE ALT TEXT HERE\" width=\"240\" height=\"180\" border=\"10\" /></a>\n"
   ]
  },
  {
   "cell_type": "markdown",
   "id": "4f460b18-e516-4df9-b574-3afc170db07a",
   "metadata": {},
   "source": [
    "| price | quantity| equilibrium |\n",
    "|-------|---------|-------------|\n",
    "|10     | 20      |no           |\n",
    "|-------|---------|-------------|\n",
    "|15     | 15      |yes\n",
    "|-------|---------|-------------|\n",
    "|20     | 10      |no\n",
    "|-------|---------|-------------|"
   ]
  },
  {
   "cell_type": "code",
   "execution_count": null,
   "id": "8143d6d8-30ad-4491-b500-ef6405d09f48",
   "metadata": {},
   "outputs": [],
   "source": []
  }
 ],
 "metadata": {
  "kernelspec": {
   "display_name": "Python 3",
   "language": "python",
   "name": "python3"
  },
  "language_info": {
   "codemirror_mode": {
    "name": "ipython",
    "version": 3
   },
   "file_extension": ".py",
   "mimetype": "text/x-python",
   "name": "python",
   "nbconvert_exporter": "python",
   "pygments_lexer": "ipython3",
   "version": "3.8.8"
  }
 },
 "nbformat": 4,
 "nbformat_minor": 5
}
